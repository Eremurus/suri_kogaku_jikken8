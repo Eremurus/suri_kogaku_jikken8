{
  "nbformat": 4,
  "nbformat_minor": 0,
  "metadata": {
    "colab": {
      "name": "suri_jikken8_32.ipynb",
      "provenance": []
    },
    "kernelspec": {
      "name": "python3",
      "display_name": "Python 3"
    },
    "language_info": {
      "name": "python"
    },
    "accelerator": "GPU"
  },
  "cells": [
    {
      "cell_type": "code",
      "source": [
        "import numpy as np\n",
        "import matplotlib.pyplot as plt\n",
        "\n",
        "import tensorflow as tf\n",
        "tfk = tf.keras\n",
        "tfkl = tfk.layers\n",
        "from tensorflow.keras import layers, models\n",
        "from tensorflow.keras.datasets import mnist\n",
        "\n",
        "(train_images, train_labels), (test_images, test_labels) = mnist.load_data()\n",
        "print(\"image size : \", train_images[0].shape)\n",
        "print(\"image components : \", train_images[0][10])\n",
        "# 0から1の浮動小数点の値に変換する\n",
        "print(\"train_images : \", train_images.shape)\n",
        "print(\"train_labels : \", train_labels.shape)\n",
        "print(\"test_images : \", test_images.shape)\n",
        "print(\"test_labels : \", test_labels.shape)\n",
        "train_zero = (train_images[(train_labels == 0)].reshape(-1, 784)).T/255\n",
        "train_one = (train_images[(train_labels == 1)].reshape(-1, 784)).T/255\n",
        "train_two = (train_images[(train_labels == 2)].reshape(-1, 784)).T/255\n",
        "\n",
        "train_ae = np.hstack((train_zero[:, 1000:1100], train_one[:, 1000:1100], train_two[:,1000:1100]))\n",
        "train_label_ae = np.hstack([np.zeros(100), np.ones(100),np.array([2. for i in range(100)])])"
      ],
      "metadata": {
        "colab": {
          "base_uri": "https://localhost:8080/"
        },
        "id": "tFSOOcKcsnpG",
        "outputId": "6b476bb4-e959-4033-f8f1-467bd5a6c0b4"
      },
      "execution_count": null,
      "outputs": [
        {
          "output_type": "stream",
          "name": "stdout",
          "text": [
            "Downloading data from https://storage.googleapis.com/tensorflow/tf-keras-datasets/mnist.npz\n",
            "11493376/11490434 [==============================] - 0s 0us/step\n",
            "11501568/11490434 [==============================] - 0s 0us/step\n",
            "image size :  (28, 28)\n",
            "image components :  [  0   0   0   0   0   0   0   0   0  14   1 154 253  90   0   0   0   0\n",
            "   0   0   0   0   0   0   0   0   0   0]\n",
            "train_images :  (60000, 28, 28)\n",
            "train_labels :  (60000,)\n",
            "test_images :  (10000, 28, 28)\n",
            "test_labels :  (10000,)\n"
          ]
        }
      ]
    },
    {
      "cell_type": "code",
      "source": [
        "model = models.Sequential([\n",
        "        tfkl.Dense(2, activation='relu', input_shape=(28*28,)), \n",
        "        tfkl.Dense(784, activation='relu')\n",
        "])\n",
        "model.summary()"
      ],
      "metadata": {
        "colab": {
          "base_uri": "https://localhost:8080/"
        },
        "id": "RjeP5PZKsuUJ",
        "outputId": "44b9168c-3c68-4c0f-8e2a-20a9e51b0396"
      },
      "execution_count": null,
      "outputs": [
        {
          "output_type": "stream",
          "name": "stdout",
          "text": [
            "Model: \"sequential\"\n",
            "_________________________________________________________________\n",
            " Layer (type)                Output Shape              Param #   \n",
            "=================================================================\n",
            " dense (Dense)               (None, 2)                 1570      \n",
            "                                                                 \n",
            " dense_1 (Dense)             (None, 784)               2352      \n",
            "                                                                 \n",
            "=================================================================\n",
            "Total params: 3,922\n",
            "Trainable params: 3,922\n",
            "Non-trainable params: 0\n",
            "_________________________________________________________________\n"
          ]
        }
      ]
    },
    {
      "cell_type": "code",
      "source": [
        "model.compile(optimizer='adam', loss='mse')\n",
        "\n",
        "history = model.fit(train_ae.T, train_ae.T,\n",
        "                    batch_size= 16, epochs=10,\n",
        "                    shuffle=True, validation_data=(train_ae.T, train_ae.T))"
      ],
      "metadata": {
        "colab": {
          "base_uri": "https://localhost:8080/"
        },
        "id": "dvB0e2aW5FBq",
        "outputId": "e30d2c35-b27f-47e8-a5ae-3f738efd8c7f"
      },
      "execution_count": null,
      "outputs": [
        {
          "output_type": "stream",
          "name": "stdout",
          "text": [
            "Epoch 1/10\n",
            "19/19 [==============================] - 2s 15ms/step - loss: 0.1161 - val_loss: 0.1055\n",
            "Epoch 2/10\n",
            "19/19 [==============================] - 0s 8ms/step - loss: 0.0984 - val_loss: 0.0912\n",
            "Epoch 3/10\n",
            "19/19 [==============================] - 0s 7ms/step - loss: 0.0874 - val_loss: 0.0841\n",
            "Epoch 4/10\n",
            "19/19 [==============================] - 0s 8ms/step - loss: 0.0830 - val_loss: 0.0820\n",
            "Epoch 5/10\n",
            "19/19 [==============================] - 0s 8ms/step - loss: 0.0818 - val_loss: 0.0814\n",
            "Epoch 6/10\n",
            "19/19 [==============================] - 0s 8ms/step - loss: 0.0813 - val_loss: 0.0810\n",
            "Epoch 7/10\n",
            "19/19 [==============================] - 0s 8ms/step - loss: 0.0809 - val_loss: 0.0806\n",
            "Epoch 8/10\n",
            "19/19 [==============================] - 0s 9ms/step - loss: 0.0804 - val_loss: 0.0800\n",
            "Epoch 9/10\n",
            "19/19 [==============================] - 0s 7ms/step - loss: 0.0796 - val_loss: 0.0790\n",
            "Epoch 10/10\n",
            "19/19 [==============================] - 0s 8ms/step - loss: 0.0784 - val_loss: 0.0774\n"
          ]
        }
      ]
    },
    {
      "cell_type": "code",
      "source": [
        "ae_w = model.layers[0].get_weights()[0]\n",
        "#ae_w /= np.linalg.norm(ae_w, axis=0)\n",
        "ae_x, ae_y = np.dot(ae_w.T, train_ae)\n",
        "plt.scatter(ae_x[:100], ae_y[:100], marker=\"o\", color='Red')  # 0に対応する点\n",
        "plt.scatter(ae_x[100:200], ae_y[100:200], marker=\"v\", color='Green')#1に対応する点\n",
        "plt.scatter(ae_x[200:], ae_y[200:], marker=\"^\", color='Blue') # 2に対応する点\n",
        "plt.xlabel(\"x\")\n",
        "plt.ylabel(\"y\")"
      ],
      "metadata": {
        "colab": {
          "base_uri": "https://localhost:8080/",
          "height": 296
        },
        "id": "jyPPOl1l5ICL",
        "outputId": "0ab30bc2-30ce-430b-ff30-10a61d5091c7"
      },
      "execution_count": null,
      "outputs": [
        {
          "output_type": "execute_result",
          "data": {
            "text/plain": [
              "Text(0, 0.5, 'y')"
            ]
          },
          "metadata": {},
          "execution_count": 8
        },
        {
          "output_type": "display_data",
          "data": {
            "image/png": "[encoded data removed]",
            "text/plain": [
              "<Figure size 432x288 with 1 Axes>"
            ]
          },
          "metadata": {
            "needs_background": "light"
          }
        }
      ]
    },
    {
      "cell_type": "code",
      "source": [
        ""
      ],
      "metadata": {
        "id": "Zz_D0h8o7TbW"
      },
      "execution_count": null,
      "outputs": []
    }
  ]
}